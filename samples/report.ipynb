{
 "cells": [
  {
   "cell_type": "code",
   "execution_count": 2,
   "outputs": [],
   "source": [
    "import pandas as pd\n",
    "from pathlib import Path\n",
    "\n",
    "files_df: pd.DataFrame = pd.read_pickle(\n",
    "    (Path(\"..\") / \"dataset\" / \"dataset.df.pkl.bz2\").resolve().as_posix(),\n",
    "    compression={\"method\": \"bz2\"},\n",
    ")"
   ],
   "metadata": {
    "collapsed": false,
    "pycharm": {
     "name": "#%%\n"
    }
   }
  },
  {
   "cell_type": "code",
   "execution_count": 3,
   "outputs": [
    {
     "data": {
      "text/plain": "                                                     path  \\\n0                                     ../dropbox/.dropbox   \n1            ../dropbox/Projects/Josh_18584939.latest.zip   \n2           ../dropbox/Projects/runtime.0618161624.tar.gz   \n3                 ../dropbox/Projects/Johny_Appleseed.zip   \n4        ../dropbox/Projects/Repositories/scm-launcher.sh   \n...                                                   ...   \n2168582            ../dropbox/vhs/Dawson Home Video 2.mp4   \n2168583              ../dropbox/vhs/aligator soup_001.mp4   \n2168584                     ../dropbox/vhs/gymnastics.mp4   \n2168585        ../dropbox/vhs/Dawson Home Video 4_001.mp4   \n2168586              ../dropbox/vhs/Dawson Home Video.mp4   \n\n                                                      hash        size  \\\n0        bdf0203bcbdc2ba47d8a190a1b495c49f538f9089139a0...          40   \n1        5737e8029d3ba4b53627c6703d86ff40103d4c0a8d41cc...      317782   \n2        67e532c361ae0005f8167126fae1617123225e945cc7e9...   205748644   \n3        e95713af7d6d4cae2cdbd23f04962eeda0d3a8b05e8ef1...   383806343   \n4        c442eaf4091b30c4cdf116183503929376e9efa247a57b...         138   \n...                                                    ...         ...   \n2168582  527ef884691001239e5d41b8dcd297a7f5a5f822949e92...   558315661   \n2168583  61bca386e64df58f3c3815942b805af8b9581c0005c372...   883944980   \n2168584  a68d75e000c42619de6caba2a43ad572f871d05b1b319e...   934129706   \n2168585  a9d93af6c9252fbb66b7085626cd0daea1efed6a790195...  1313833989   \n2168586  d8f4c59bbbee7b2d8d52e5a80b7042ddb413b6405be30d...  1871686905   \n\n             modified  \n0        1.646611e+09  \n1        1.560391e+09  \n2        1.466289e+09  \n3        1.550068e+09  \n4        1.383351e+09  \n...               ...  \n2168582  1.625107e+09  \n2168583  1.624774e+09  \n2168584  1.624765e+09  \n2168585  1.625113e+09  \n2168586  1.625104e+09  \n\n[2168587 rows x 4 columns]",
      "text/html": "<div>\n<style scoped>\n    .dataframe tbody tr th:only-of-type {\n        vertical-align: middle;\n    }\n\n    .dataframe tbody tr th {\n        vertical-align: top;\n    }\n\n    .dataframe thead th {\n        text-align: right;\n    }\n</style>\n<table border=\"1\" class=\"dataframe\">\n  <thead>\n    <tr style=\"text-align: right;\">\n      <th></th>\n      <th>path</th>\n      <th>hash</th>\n      <th>size</th>\n      <th>modified</th>\n    </tr>\n  </thead>\n  <tbody>\n    <tr>\n      <th>0</th>\n      <td>../dropbox/.dropbox</td>\n      <td>bdf0203bcbdc2ba47d8a190a1b495c49f538f9089139a0...</td>\n      <td>40</td>\n      <td>1.646611e+09</td>\n    </tr>\n    <tr>\n      <th>1</th>\n      <td>../dropbox/Projects/Josh_18584939.latest.zip</td>\n      <td>5737e8029d3ba4b53627c6703d86ff40103d4c0a8d41cc...</td>\n      <td>317782</td>\n      <td>1.560391e+09</td>\n    </tr>\n    <tr>\n      <th>2</th>\n      <td>../dropbox/Projects/runtime.0618161624.tar.gz</td>\n      <td>67e532c361ae0005f8167126fae1617123225e945cc7e9...</td>\n      <td>205748644</td>\n      <td>1.466289e+09</td>\n    </tr>\n    <tr>\n      <th>3</th>\n      <td>../dropbox/Projects/Johny_Appleseed.zip</td>\n      <td>e95713af7d6d4cae2cdbd23f04962eeda0d3a8b05e8ef1...</td>\n      <td>383806343</td>\n      <td>1.550068e+09</td>\n    </tr>\n    <tr>\n      <th>4</th>\n      <td>../dropbox/Projects/Repositories/scm-launcher.sh</td>\n      <td>c442eaf4091b30c4cdf116183503929376e9efa247a57b...</td>\n      <td>138</td>\n      <td>1.383351e+09</td>\n    </tr>\n    <tr>\n      <th>...</th>\n      <td>...</td>\n      <td>...</td>\n      <td>...</td>\n      <td>...</td>\n    </tr>\n    <tr>\n      <th>2168582</th>\n      <td>../dropbox/vhs/Dawson Home Video 2.mp4</td>\n      <td>527ef884691001239e5d41b8dcd297a7f5a5f822949e92...</td>\n      <td>558315661</td>\n      <td>1.625107e+09</td>\n    </tr>\n    <tr>\n      <th>2168583</th>\n      <td>../dropbox/vhs/aligator soup_001.mp4</td>\n      <td>61bca386e64df58f3c3815942b805af8b9581c0005c372...</td>\n      <td>883944980</td>\n      <td>1.624774e+09</td>\n    </tr>\n    <tr>\n      <th>2168584</th>\n      <td>../dropbox/vhs/gymnastics.mp4</td>\n      <td>a68d75e000c42619de6caba2a43ad572f871d05b1b319e...</td>\n      <td>934129706</td>\n      <td>1.624765e+09</td>\n    </tr>\n    <tr>\n      <th>2168585</th>\n      <td>../dropbox/vhs/Dawson Home Video 4_001.mp4</td>\n      <td>a9d93af6c9252fbb66b7085626cd0daea1efed6a790195...</td>\n      <td>1313833989</td>\n      <td>1.625113e+09</td>\n    </tr>\n    <tr>\n      <th>2168586</th>\n      <td>../dropbox/vhs/Dawson Home Video.mp4</td>\n      <td>d8f4c59bbbee7b2d8d52e5a80b7042ddb413b6405be30d...</td>\n      <td>1871686905</td>\n      <td>1.625104e+09</td>\n    </tr>\n  </tbody>\n</table>\n<p>2168587 rows × 4 columns</p>\n</div>"
     },
     "execution_count": 3,
     "metadata": {},
     "output_type": "execute_result"
    }
   ],
   "source": [
    "files_df"
   ],
   "metadata": {
    "collapsed": false,
    "pycharm": {
     "name": "#%%\n"
    }
   }
  },
  {
   "cell_type": "code",
   "execution_count": 4,
   "outputs": [
    {
     "data": {
      "text/plain": "2168587"
     },
     "execution_count": 4,
     "metadata": {},
     "output_type": "execute_result"
    }
   ],
   "source": [
    "len(files_df)"
   ],
   "metadata": {
    "collapsed": false,
    "pycharm": {
     "name": "#%%\n"
    }
   }
  },
  {
   "cell_type": "code",
   "execution_count": 5,
   "outputs": [],
   "source": [
    "duplicate_files: pd.DataFrame = pd.concat(g for _, g in files_df.groupby(\"hash\") if len(g) > 1)"
   ],
   "metadata": {
    "collapsed": false,
    "pycharm": {
     "name": "#%%\n"
    }
   }
  },
  {
   "cell_type": "code",
   "execution_count": 6,
   "outputs": [
    {
     "data": {
      "text/plain": "                                                      path  \\\n693158   ../dropbox/Projects/Repositories/com.shapeands...   \n1767752  ../dropbox/Projects/dicebox.io/datasets_master...   \n664767   ../dropbox/Projects/Repositories/com.shapeands...   \n1650918  ../dropbox/Projects/dicebox.io/datasets_master...   \n1247406  ../dropbox/Projects/dicebox.io/datasets/mnist_...   \n...                                                    ...   \n2011305  ../dropbox/Projects/dicebox.io/dicebox.datavol...   \n502304   ../dropbox/Projects/Repositories/com.shapeands...   \n1676439  ../dropbox/Projects/dicebox.io/datasets_master...   \n517108   ../dropbox/Projects/Repositories/com.shapeands...   \n1691396  ../dropbox/Projects/dicebox.io/datasets_master...   \n\n                                                      hash  size      modified  \n693158   000012f6e56742806da5ed97f01522ad96a4f6785dfec5...  1513  1.499008e+09  \n1767752  000012f6e56742806da5ed97f01522ad96a4f6785dfec5...  1513  1.499008e+09  \n664767   00004423f56fdd37db11641c2b178d4d42408b08dff266...  1252  1.499205e+09  \n1650918  00004423f56fdd37db11641c2b178d4d42408b08dff266...  1252  1.499205e+09  \n1247406  000080cf90699bf390d0e0c31e50846a367b0a8cef5b2d...   434  1.553388e+09  \n...                                                    ...   ...           ...  \n2011305  ffffe01bc2aebb0206d957cca159161e669bfaf703a4a8...  3313  1.500230e+09  \n502304   fffff305b2d99243c8546121f836d38dc84d5adf13a681...  1184  1.498922e+09  \n1676439  fffff305b2d99243c8546121f836d38dc84d5adf13a681...  1184  1.498922e+09  \n517108   fffffca50f91c53fab008f65c807f95f3949490baf7f4b...  1322  1.499047e+09  \n1691396  fffffca50f91c53fab008f65c807f95f3949490baf7f4b...  1322  1.499047e+09  \n\n[1592997 rows x 4 columns]",
      "text/html": "<div>\n<style scoped>\n    .dataframe tbody tr th:only-of-type {\n        vertical-align: middle;\n    }\n\n    .dataframe tbody tr th {\n        vertical-align: top;\n    }\n\n    .dataframe thead th {\n        text-align: right;\n    }\n</style>\n<table border=\"1\" class=\"dataframe\">\n  <thead>\n    <tr style=\"text-align: right;\">\n      <th></th>\n      <th>path</th>\n      <th>hash</th>\n      <th>size</th>\n      <th>modified</th>\n    </tr>\n  </thead>\n  <tbody>\n    <tr>\n      <th>693158</th>\n      <td>../dropbox/Projects/Repositories/com.shapeands...</td>\n      <td>000012f6e56742806da5ed97f01522ad96a4f6785dfec5...</td>\n      <td>1513</td>\n      <td>1.499008e+09</td>\n    </tr>\n    <tr>\n      <th>1767752</th>\n      <td>../dropbox/Projects/dicebox.io/datasets_master...</td>\n      <td>000012f6e56742806da5ed97f01522ad96a4f6785dfec5...</td>\n      <td>1513</td>\n      <td>1.499008e+09</td>\n    </tr>\n    <tr>\n      <th>664767</th>\n      <td>../dropbox/Projects/Repositories/com.shapeands...</td>\n      <td>00004423f56fdd37db11641c2b178d4d42408b08dff266...</td>\n      <td>1252</td>\n      <td>1.499205e+09</td>\n    </tr>\n    <tr>\n      <th>1650918</th>\n      <td>../dropbox/Projects/dicebox.io/datasets_master...</td>\n      <td>00004423f56fdd37db11641c2b178d4d42408b08dff266...</td>\n      <td>1252</td>\n      <td>1.499205e+09</td>\n    </tr>\n    <tr>\n      <th>1247406</th>\n      <td>../dropbox/Projects/dicebox.io/datasets/mnist_...</td>\n      <td>000080cf90699bf390d0e0c31e50846a367b0a8cef5b2d...</td>\n      <td>434</td>\n      <td>1.553388e+09</td>\n    </tr>\n    <tr>\n      <th>...</th>\n      <td>...</td>\n      <td>...</td>\n      <td>...</td>\n      <td>...</td>\n    </tr>\n    <tr>\n      <th>2011305</th>\n      <td>../dropbox/Projects/dicebox.io/dicebox.datavol...</td>\n      <td>ffffe01bc2aebb0206d957cca159161e669bfaf703a4a8...</td>\n      <td>3313</td>\n      <td>1.500230e+09</td>\n    </tr>\n    <tr>\n      <th>502304</th>\n      <td>../dropbox/Projects/Repositories/com.shapeands...</td>\n      <td>fffff305b2d99243c8546121f836d38dc84d5adf13a681...</td>\n      <td>1184</td>\n      <td>1.498922e+09</td>\n    </tr>\n    <tr>\n      <th>1676439</th>\n      <td>../dropbox/Projects/dicebox.io/datasets_master...</td>\n      <td>fffff305b2d99243c8546121f836d38dc84d5adf13a681...</td>\n      <td>1184</td>\n      <td>1.498922e+09</td>\n    </tr>\n    <tr>\n      <th>517108</th>\n      <td>../dropbox/Projects/Repositories/com.shapeands...</td>\n      <td>fffffca50f91c53fab008f65c807f95f3949490baf7f4b...</td>\n      <td>1322</td>\n      <td>1.499047e+09</td>\n    </tr>\n    <tr>\n      <th>1691396</th>\n      <td>../dropbox/Projects/dicebox.io/datasets_master...</td>\n      <td>fffffca50f91c53fab008f65c807f95f3949490baf7f4b...</td>\n      <td>1322</td>\n      <td>1.499047e+09</td>\n    </tr>\n  </tbody>\n</table>\n<p>1592997 rows × 4 columns</p>\n</div>"
     },
     "execution_count": 6,
     "metadata": {},
     "output_type": "execute_result"
    }
   ],
   "source": [
    "duplicate_files"
   ],
   "metadata": {
    "collapsed": false,
    "pycharm": {
     "name": "#%%\n"
    }
   }
  },
  {
   "cell_type": "code",
   "execution_count": 52,
   "outputs": [
    {
     "name": "stderr",
     "output_type": "stream",
     "text": [
      "/var/folders/_n/2jc1qwzs5ld_0x6lmzt9g_l80000gn/T/ipykernel_17576/3928569695.py:3: UserWarning: Boolean Series key will be reindexed to match DataFrame index.\n",
      "  filtered_df = filtered_df[~files_df[\"path\"].str.contains(\"../dropbox/Projects/Repositories/com.shapeandshare.dicebox\")]\n",
      "/var/folders/_n/2jc1qwzs5ld_0x6lmzt9g_l80000gn/T/ipykernel_17576/3928569695.py:4: UserWarning: Boolean Series key will be reindexed to match DataFrame index.\n",
      "  filtered_df = filtered_df[~files_df[\"path\"].str.contains(\"../dropbox/Projects/dicebox.io/dicebox.datavolumeloader\")]\n",
      "/var/folders/_n/2jc1qwzs5ld_0x6lmzt9g_l80000gn/T/ipykernel_17576/3928569695.py:5: UserWarning: Boolean Series key will be reindexed to match DataFrame index.\n",
      "  filtered_df = filtered_df[~files_df[\"path\"].str.contains(\"../dropbox/Projects/dicebox.io/datasets\")]\n",
      "/var/folders/_n/2jc1qwzs5ld_0x6lmzt9g_l80000gn/T/ipykernel_17576/3928569695.py:6: UserWarning: Boolean Series key will be reindexed to match DataFrame index.\n",
      "  filtered_df = filtered_df[~files_df[\"path\"].str.contains(\"../dropbox/Downloads\")]\n",
      "/var/folders/_n/2jc1qwzs5ld_0x6lmzt9g_l80000gn/T/ipykernel_17576/3928569695.py:7: UserWarning: Boolean Series key will be reindexed to match DataFrame index.\n",
      "  filtered_df = filtered_df[~files_df[\"path\"].str.contains(\"../dropbox/Backups/Email\")]\n",
      "/var/folders/_n/2jc1qwzs5ld_0x6lmzt9g_l80000gn/T/ipykernel_17576/3928569695.py:8: UserWarning: Boolean Series key will be reindexed to match DataFrame index.\n",
      "  filtered_df = filtered_df[~files_df[\"path\"].str.contains(\"../dropbox/Backups/Email 2\")]\n",
      "/var/folders/_n/2jc1qwzs5ld_0x6lmzt9g_l80000gn/T/ipykernel_17576/3928569695.py:11: UserWarning: Boolean Series key will be reindexed to match DataFrame index.\n",
      "  filtered_df = filtered_df[~files_df[\"path\"].str.contains(\"../dropbox/Multimedia\")]\n"
     ]
    }
   ],
   "source": [
    "# Filter out some specific patterns\n",
    "filtered_df: pd.DataFrame = files_df[~files_df[\"path\"].str.contains(\"Repositories 3\")]\n",
    "filtered_df = filtered_df[~files_df[\"path\"].str.contains(\"../dropbox/Projects/Repositories/com.shapeandshare.dicebox\")]\n",
    "filtered_df = filtered_df[~files_df[\"path\"].str.contains(\"../dropbox/Projects/dicebox.io/dicebox.datavolumeloader\")]\n",
    "filtered_df = filtered_df[~files_df[\"path\"].str.contains(\"../dropbox/Projects/dicebox.io/datasets\")]\n",
    "filtered_df = filtered_df[~files_df[\"path\"].str.contains(\"../dropbox/Downloads\")]\n",
    "filtered_df = filtered_df[~files_df[\"path\"].str.contains(\"../dropbox/Backups/Email\")]\n",
    "filtered_df = filtered_df[~files_df[\"path\"].str.contains(\"../dropbox/Backups/Email 2\")]\n",
    "\n",
    "# Review later\n",
    "filtered_df = filtered_df[~files_df[\"path\"].str.contains(\"../dropbox/Multimedia\")]\n",
    "\n",
    "# filtered_df: pd.DataFrame = files_df[~files_df[\"path\"].str.contains(\"dicebox\")]\n",
    "# filtered_df = filtered_df[~files_df[\"path\"].str.contains(\"G:/Dropbox/Backups\")]\n",
    "# filtered_df = filtered_df[~files_df[\"path\"].str.contains(\"G:/Dropbox/Projects/Repositories\")]\n",
    "# filtered_df = filtered_df[~files_df[\"path\"].str.contains(\"G:/Dropbox/Multimedia\")]"
   ],
   "metadata": {
    "collapsed": false,
    "pycharm": {
     "name": "#%%\n"
    }
   }
  },
  {
   "cell_type": "code",
   "execution_count": 53,
   "outputs": [
    {
     "data": {
      "text/plain": "11023"
     },
     "execution_count": 53,
     "metadata": {},
     "output_type": "execute_result"
    }
   ],
   "source": [
    "len(filtered_df)"
   ],
   "metadata": {
    "collapsed": false,
    "pycharm": {
     "name": "#%%\n"
    }
   }
  },
  {
   "cell_type": "code",
   "execution_count": 54,
   "outputs": [
    {
     "data": {
      "text/plain": "2157564"
     },
     "execution_count": 54,
     "metadata": {},
     "output_type": "execute_result"
    }
   ],
   "source": [
    "len(files_df) - len(filtered_df)"
   ],
   "metadata": {
    "collapsed": false,
    "pycharm": {
     "name": "#%%\n"
    }
   }
  },
  {
   "cell_type": "code",
   "execution_count": 55,
   "outputs": [],
   "source": [
    "duplicate_files: pd.DataFrame = pd.concat(g for _, g in filtered_df.groupby(\"hash\") if len(g) > 1)"
   ],
   "metadata": {
    "collapsed": false,
    "pycharm": {
     "name": "#%%\n"
    }
   }
  },
  {
   "cell_type": "code",
   "execution_count": 56,
   "outputs": [
    {
     "data": {
      "text/plain": "                                                      path  \\\n2063351  ../dropbox/Shape and Share/Taxes - 2012/person...   \n2167918  ../dropbox/Documents/Taxes - 2012/personalchec...   \n78       ../dropbox/Projects/Repositories/imapsync/tmp/...   \n2168387  ../dropbox/Documents/3d/3d/mcedit/pymclevel/py...   \n2167777             ../dropbox/Documents/7r1dcnkizb811.jpg   \n...                                                    ...   \n56       ../dropbox/Projects/Repositories/imapsync/LICENSE   \n2074726  ../dropbox/Music/Unknown Artist/Unknown Album/...   \n2074727  ../dropbox/Music/Unknown Artist/Unknown Album/...   \n2063350  ../dropbox/Shape and Share/Taxes - 2012/person...   \n2167917  ../dropbox/Documents/Taxes - 2012/personalchec...   \n\n                                                      hash    size  \\\n2063351  0085eb19e92b0c630347ccffe4b060ea774d1c3082521c...   28949   \n2167918  0085eb19e92b0c630347ccffe4b060ea774d1c3082521c...   28949   \n78       01ba4719c80b6fe911b091a7c05124b64eeece964e09c0...       1   \n2168387  01ba4719c80b6fe911b091a7c05124b64eeece964e09c0...       1   \n2167777  046dcd3ca41bd99548e6c324398a81509c20e3856f357f...  647822   \n...                                                    ...     ...   \n56       ff6c1f3ae704d82872e86dd19275e03bfb61a2c9ce5835...     320   \n2074726  ff828a47812b0a55d735b2752224137e367a8353080ffc...   86179   \n2074727  ff828a47812b0a55d735b2752224137e367a8353080ffc...   86179   \n2063350  ffc357886b3c7ed78667656ebf77bf53bfc9c6638449aa...   28757   \n2167917  ffc357886b3c7ed78667656ebf77bf53bfc9c6638449aa...   28757   \n\n             modified  \n2063351  1.360456e+09  \n2167918  1.360456e+09  \n78       1.487381e+09  \n2168387  1.433262e+09  \n2167777  1.530926e+09  \n...               ...  \n56       1.487381e+09  \n2074726  1.326589e+09  \n2074727  1.326589e+09  \n2063350  1.360456e+09  \n2167917  1.360456e+09  \n\n[782 rows x 4 columns]",
      "text/html": "<div>\n<style scoped>\n    .dataframe tbody tr th:only-of-type {\n        vertical-align: middle;\n    }\n\n    .dataframe tbody tr th {\n        vertical-align: top;\n    }\n\n    .dataframe thead th {\n        text-align: right;\n    }\n</style>\n<table border=\"1\" class=\"dataframe\">\n  <thead>\n    <tr style=\"text-align: right;\">\n      <th></th>\n      <th>path</th>\n      <th>hash</th>\n      <th>size</th>\n      <th>modified</th>\n    </tr>\n  </thead>\n  <tbody>\n    <tr>\n      <th>2063351</th>\n      <td>../dropbox/Shape and Share/Taxes - 2012/person...</td>\n      <td>0085eb19e92b0c630347ccffe4b060ea774d1c3082521c...</td>\n      <td>28949</td>\n      <td>1.360456e+09</td>\n    </tr>\n    <tr>\n      <th>2167918</th>\n      <td>../dropbox/Documents/Taxes - 2012/personalchec...</td>\n      <td>0085eb19e92b0c630347ccffe4b060ea774d1c3082521c...</td>\n      <td>28949</td>\n      <td>1.360456e+09</td>\n    </tr>\n    <tr>\n      <th>78</th>\n      <td>../dropbox/Projects/Repositories/imapsync/tmp/...</td>\n      <td>01ba4719c80b6fe911b091a7c05124b64eeece964e09c0...</td>\n      <td>1</td>\n      <td>1.487381e+09</td>\n    </tr>\n    <tr>\n      <th>2168387</th>\n      <td>../dropbox/Documents/3d/3d/mcedit/pymclevel/py...</td>\n      <td>01ba4719c80b6fe911b091a7c05124b64eeece964e09c0...</td>\n      <td>1</td>\n      <td>1.433262e+09</td>\n    </tr>\n    <tr>\n      <th>2167777</th>\n      <td>../dropbox/Documents/7r1dcnkizb811.jpg</td>\n      <td>046dcd3ca41bd99548e6c324398a81509c20e3856f357f...</td>\n      <td>647822</td>\n      <td>1.530926e+09</td>\n    </tr>\n    <tr>\n      <th>...</th>\n      <td>...</td>\n      <td>...</td>\n      <td>...</td>\n      <td>...</td>\n    </tr>\n    <tr>\n      <th>56</th>\n      <td>../dropbox/Projects/Repositories/imapsync/LICENSE</td>\n      <td>ff6c1f3ae704d82872e86dd19275e03bfb61a2c9ce5835...</td>\n      <td>320</td>\n      <td>1.487381e+09</td>\n    </tr>\n    <tr>\n      <th>2074726</th>\n      <td>../dropbox/Music/Unknown Artist/Unknown Album/...</td>\n      <td>ff828a47812b0a55d735b2752224137e367a8353080ffc...</td>\n      <td>86179</td>\n      <td>1.326589e+09</td>\n    </tr>\n    <tr>\n      <th>2074727</th>\n      <td>../dropbox/Music/Unknown Artist/Unknown Album/...</td>\n      <td>ff828a47812b0a55d735b2752224137e367a8353080ffc...</td>\n      <td>86179</td>\n      <td>1.326589e+09</td>\n    </tr>\n    <tr>\n      <th>2063350</th>\n      <td>../dropbox/Shape and Share/Taxes - 2012/person...</td>\n      <td>ffc357886b3c7ed78667656ebf77bf53bfc9c6638449aa...</td>\n      <td>28757</td>\n      <td>1.360456e+09</td>\n    </tr>\n    <tr>\n      <th>2167917</th>\n      <td>../dropbox/Documents/Taxes - 2012/personalchec...</td>\n      <td>ffc357886b3c7ed78667656ebf77bf53bfc9c6638449aa...</td>\n      <td>28757</td>\n      <td>1.360456e+09</td>\n    </tr>\n  </tbody>\n</table>\n<p>782 rows × 4 columns</p>\n</div>"
     },
     "execution_count": 56,
     "metadata": {},
     "output_type": "execute_result"
    }
   ],
   "source": [
    "duplicate_files"
   ],
   "metadata": {
    "collapsed": false,
    "pycharm": {
     "name": "#%%\n"
    }
   }
  },
  {
   "cell_type": "code",
   "execution_count": null,
   "outputs": [],
   "source": [],
   "metadata": {
    "collapsed": false,
    "pycharm": {
     "name": "#%%\n"
    }
   }
  }
 ],
 "metadata": {
  "kernelspec": {
   "display_name": "Python 3",
   "language": "python",
   "name": "python3"
  },
  "language_info": {
   "codemirror_mode": {
    "name": "ipython",
    "version": 2
   },
   "file_extension": ".py",
   "mimetype": "text/x-python",
   "name": "python",
   "nbconvert_exporter": "python",
   "pygments_lexer": "ipython2",
   "version": "2.7.6"
  }
 },
 "nbformat": 4,
 "nbformat_minor": 0
}
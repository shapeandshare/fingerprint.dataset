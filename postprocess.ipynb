{
 "cells": [
  {
   "cell_type": "code",
   "execution_count": 1,
   "metadata": {
    "collapsed": true
   },
   "outputs": [],
   "source": [
    "from typing import List\n",
    "from pathlib import Path\n",
    "from src.contracts.dtos.file_record import FileRecord\n",
    "import json\n",
    "\n",
    "data_set: List[FileRecord] = []\n",
    "for child in (Path(\".\") / \"hashes\").glob(\"**/*.json\"):\n",
    "    if child.is_file():\n",
    "        with open(child.resolve().as_posix(), mode=\"r\", encoding=\"utf-8\") as file:\n",
    "            data_set.append(FileRecord(**json.load(file)))"
   ]
  },
  {
   "cell_type": "code",
   "execution_count": 3,
   "outputs": [],
   "source": [
    "import csv\n",
    "from typing import List\n",
    "from contracts.source_type import SourceType\n",
    "\n",
    "# Convert to table format\n",
    "tabular_representation: List = []\n",
    "\n",
    "# Create headers\n",
    "headers: List = [\"hash.name\", \"path\", \"hash.data\"]\n",
    "\n",
    "tabular_representation.append(headers)\n",
    "for record in data_set:\n",
    "    name_hash = [hash for hash in record.hash if hash.source == SourceType.NAME][0]\n",
    "    data_hash = [hash for hash in record.hash if hash.source == SourceType.DATA][0]\n",
    "    row: List = [name_hash.value, record.path, data_hash.value]\n",
    "    tabular_representation.append(row)\n",
    "\n",
    "with open((Path(\".\") / \"file_list.csv\").resolve().as_posix(), mode=\"w\", encoding=\"utf-8\", newline=\"\") as file:\n",
    "    writer = csv.writer(file)\n",
    "    writer.writerows(tabular_representation)"
   ],
   "metadata": {
    "collapsed": false,
    "pycharm": {
     "name": "#%%\n"
    }
   }
  },
  {
   "cell_type": "code",
   "execution_count": null,
   "outputs": [],
   "source": [],
   "metadata": {
    "collapsed": false,
    "pycharm": {
     "name": "#%%\n",
     "is_executing": true
    }
   }
  },
  {
   "cell_type": "code",
   "execution_count": null,
   "outputs": [],
   "source": [],
   "metadata": {
    "collapsed": false,
    "pycharm": {
     "name": "#%%\n"
    }
   }
  }
 ],
 "metadata": {
  "kernelspec": {
   "display_name": "Python 3",
   "language": "python",
   "name": "python3"
  },
  "language_info": {
   "codemirror_mode": {
    "name": "ipython",
    "version": 2
   },
   "file_extension": ".py",
   "mimetype": "text/x-python",
   "name": "python",
   "nbconvert_exporter": "python",
   "pygments_lexer": "ipython2",
   "version": "2.7.6"
  }
 },
 "nbformat": 4,
 "nbformat_minor": 0
}